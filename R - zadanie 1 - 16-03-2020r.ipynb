{
 "cells": [
  {
   "cell_type": "code",
   "execution_count": 80,
   "metadata": {},
   "outputs": [
    {
     "data": {
      "image/png": "[encoded data removed]",
      "text/plain": [
       "Plot with title \"100 losowań cyfr od 1 do 5 z prawdopodobieństwem \n",
       " odpowiednio 20%, 10%, 30%, 15% i 25%\""
      ]
     },
     "metadata": {},
     "output_type": "display_data"
    }
   ],
   "source": [
    "# PRZYKŁAD 1\n",
    "# tworzymy wykres słupkowy, gdzie próbką jest 100(size) losowanych cyfr od 1 do 5(1:5) z odpowiednim prawdopodobieństwem(prob)\n",
    "# replace, ustawione na TRUE powoduje, że dopuszczamy powtórne wylosowanie danej cyfry\n",
    "# główny tytuł wykresu(main), xlab, ylab - odpowiednio podpisane osie, col - kolor wypełnienia wykresu\n",
    "# za każdym razem wykres będzie się różnił, ze względu na to, że przy uruchomieniu polecenia losowane są nowe liczby\n",
    "barplot(table(sample(1:5, size=100, replace=TRUE, prob=c(.20,.10,.30,.15,.25))), main=\"100 losowań cyfr od 1 do 5 z prawdopodobieństwem \\n odpowiednio 20%, 10%, 30%, 15% i 25%\", xlab = \"Cyfry\", ylab=\"Liczba wylosowań\", col=\"pink\")\n"
   ]
  },
  {
   "cell_type": "code",
   "execution_count": 77,
   "metadata": {},
   "outputs": [
    {
     "name": "stdout",
     "output_type": "stream",
     "text": [
      "[1] \"Liczba musi być nieujemna.\"\n"
     ]
    },
    {
     "data": {
      "text/html": [
       "FALSE"
      ],
      "text/latex": [
       "FALSE"
      ],
      "text/markdown": [
       "FALSE"
      ],
      "text/plain": [
       "[1] FALSE"
      ]
     },
     "metadata": {},
     "output_type": "display_data"
    },
    {
     "data": {
      "text/html": [
       "TRUE"
      ],
      "text/latex": [
       "TRUE"
      ],
      "text/markdown": [
       "TRUE"
      ],
      "text/plain": [
       "[1] TRUE"
      ]
     },
     "metadata": {},
     "output_type": "display_data"
    },
    {
     "data": {
      "text/html": [
       "FALSE"
      ],
      "text/latex": [
       "FALSE"
      ],
      "text/markdown": [
       "FALSE"
      ],
      "text/plain": [
       "[1] FALSE"
      ]
     },
     "metadata": {},
     "output_type": "display_data"
    },
    {
     "data": {
      "text/html": [
       "TRUE"
      ],
      "text/latex": [
       "TRUE"
      ],
      "text/markdown": [
       "TRUE"
      ],
      "text/plain": [
       "[1] TRUE"
      ]
     },
     "metadata": {},
     "output_type": "display_data"
    },
    {
     "data": {
      "text/html": [
       "FALSE"
      ],
      "text/latex": [
       "FALSE"
      ],
      "text/markdown": [
       "FALSE"
      ],
      "text/plain": [
       "[1] FALSE"
      ]
     },
     "metadata": {},
     "output_type": "display_data"
    },
    {
     "data": {
      "text/html": [
       "FALSE"
      ],
      "text/latex": [
       "FALSE"
      ],
      "text/markdown": [
       "FALSE"
      ],
      "text/plain": [
       "[1] FALSE"
      ]
     },
     "metadata": {},
     "output_type": "display_data"
    },
    {
     "data": {
      "text/plain": [
       "Time difference of 0.01500511 secs"
      ]
     },
     "metadata": {},
     "output_type": "display_data"
    }
   ],
   "source": [
    "# PRZYKŁAD 2.1\n",
    "# tworzymy funkcję, która sprawdza, czy podana liczba jest liczbą pierwszą\n",
    "# funkcja ta, przyjmuje jeden parametr, czyli liczbę, która ma być sprawdzona\n",
    "# algorytm polega na sprawdzeniu, czy podana liczba jest podzielna przez jakąkolwiek z liczb od 2 do liczba-1 \n",
    "# (użyto operatora modulo - %, dzięki któremu jesteśmy w stanie otrzymać resztę z dzielenia, co następnie przyrównujemy do 0)\n",
    "\n",
    "#na końcu wywołujemy napisaną funkcję, podając jako argument liczbę, którą chcemy sprawdzić\n",
    "\n",
    "jestLiczbaPierwsza <- function(liczba) {\n",
    "    if (liczba < 0) {\n",
    "        print (\"Liczba musi być nieujemna.\")\n",
    "    }\n",
    "    else if (liczba == 2) {\n",
    "      TRUE\n",
    "   } else if (any(liczba %% 2:(liczba-1) == 0)) {\n",
    "      FALSE\n",
    "   } else { \n",
    "      TRUE\n",
    "   }\n",
    "}\n",
    "\n",
    "jestLiczbaPierwsza(-1)\n",
    "jestLiczbaPierwsza(1)\n",
    "jestLiczbaPierwsza(2)\n",
    "jestLiczbaPierwsza(4)\n",
    "jestLiczbaPierwsza(13)\n",
    "jestLiczbaPierwsza(15)\n",
    "\n",
    "czasRozpoczecia<- Sys.time()\n",
    "jestLiczbaPierwsza(11203312)\n",
    "czasZakonczenia <- Sys.time()\n",
    "czasWykonywania <- czasZakonczenia - czasRozpoczecia\n",
    "czasWykonywania"
   ]
  },
  {
   "cell_type": "code",
   "execution_count": 78,
   "metadata": {},
   "outputs": [
    {
     "data": {
      "text/html": [
       "FALSE"
      ],
      "text/latex": [
       "FALSE"
      ],
      "text/markdown": [
       "FALSE"
      ],
      "text/plain": [
       "[1] FALSE"
      ]
     },
     "metadata": {},
     "output_type": "display_data"
    },
    {
     "data": {
      "text/html": [
       "TRUE"
      ],
      "text/latex": [
       "TRUE"
      ],
      "text/markdown": [
       "TRUE"
      ],
      "text/plain": [
       "[1] TRUE"
      ]
     },
     "metadata": {},
     "output_type": "display_data"
    },
    {
     "data": {
      "text/html": [
       "FALSE"
      ],
      "text/latex": [
       "FALSE"
      ],
      "text/markdown": [
       "FALSE"
      ],
      "text/plain": [
       "[1] FALSE"
      ]
     },
     "metadata": {},
     "output_type": "display_data"
    },
    {
     "data": {
      "text/html": [
       "TRUE"
      ],
      "text/latex": [
       "TRUE"
      ],
      "text/markdown": [
       "TRUE"
      ],
      "text/plain": [
       "[1] TRUE"
      ]
     },
     "metadata": {},
     "output_type": "display_data"
    },
    {
     "data": {
      "text/html": [
       "FALSE"
      ],
      "text/latex": [
       "FALSE"
      ],
      "text/markdown": [
       "FALSE"
      ],
      "text/plain": [
       "[1] FALSE"
      ]
     },
     "metadata": {},
     "output_type": "display_data"
    },
    {
     "data": {
      "text/html": [
       "FALSE"
      ],
      "text/latex": [
       "FALSE"
      ],
      "text/markdown": [
       "FALSE"
      ],
      "text/plain": [
       "[1] FALSE"
      ]
     },
     "metadata": {},
     "output_type": "display_data"
    },
    {
     "data": {
      "text/plain": [
       "Time difference of 0.009503841 secs"
      ]
     },
     "metadata": {},
     "output_type": "display_data"
    }
   ],
   "source": [
    "# PRZYKŁAD 2.2\n",
    "# przepisujemy powyższą funkcję sprawdzającą, czy dana liczba jest pierwsza, używając szybszego algorytmu\n",
    "# różnica polega na tym, że sprawdzamy, czy podana jako argument liczba jest równa 2 lub czy wszystkie reszty z dzielenia\n",
    "# sprawdzanej liczby (przy dzieleniu od 2 do pierwiastka z liczby - zaokrąglonego do góry) są różne od 0\n",
    "\n",
    "# ulepszenie polega na zastosowaniu algorytmu sita Eratostenesa\n",
    "\n",
    "jestLiczbaPierwsza <- function(liczba) liczba == 2 || all(liczba %% 2:ceiling(sqrt(liczba)) != 0)\n",
    "\n",
    "jestLiczbaPierwsza(1)\n",
    "jestLiczbaPierwsza(2)\n",
    "jestLiczbaPierwsza(4)\n",
    "jestLiczbaPierwsza(13)\n",
    "jestLiczbaPierwsza(15)\n",
    "\n",
    "czasRozpoczecia<- Sys.time()\n",
    "jestLiczbaPierwsza(11203312)\n",
    "czasZakonczenia <- Sys.time()\n",
    "czasWykonywania <- czasZakonczenia - czasRozpoczecia\n",
    "czasWykonywania"
   ]
  },
  {
   "cell_type": "code",
   "execution_count": 79,
   "metadata": {},
   "outputs": [
    {
     "name": "stderr",
     "output_type": "stream",
     "text": [
      "Warning message:\n",
      "\"package 'matlab' is in use and will not be installed\""
     ]
    },
    {
     "data": {
      "text/html": [
       "FALSE"
      ],
      "text/latex": [
       "FALSE"
      ],
      "text/markdown": [
       "FALSE"
      ],
      "text/plain": [
       "[1] FALSE"
      ]
     },
     "metadata": {},
     "output_type": "display_data"
    },
    {
     "data": {
      "text/html": [
       "TRUE"
      ],
      "text/latex": [
       "TRUE"
      ],
      "text/markdown": [
       "TRUE"
      ],
      "text/plain": [
       "[1] TRUE"
      ]
     },
     "metadata": {},
     "output_type": "display_data"
    },
    {
     "data": {
      "text/html": [
       "FALSE"
      ],
      "text/latex": [
       "FALSE"
      ],
      "text/markdown": [
       "FALSE"
      ],
      "text/plain": [
       "[1] FALSE"
      ]
     },
     "metadata": {},
     "output_type": "display_data"
    },
    {
     "data": {
      "text/html": [
       "TRUE"
      ],
      "text/latex": [
       "TRUE"
      ],
      "text/markdown": [
       "TRUE"
      ],
      "text/plain": [
       "[1] TRUE"
      ]
     },
     "metadata": {},
     "output_type": "display_data"
    },
    {
     "data": {
      "text/html": [
       "FALSE"
      ],
      "text/latex": [
       "FALSE"
      ],
      "text/markdown": [
       "FALSE"
      ],
      "text/plain": [
       "[1] FALSE"
      ]
     },
     "metadata": {},
     "output_type": "display_data"
    },
    {
     "data": {
      "text/html": [
       "FALSE"
      ],
      "text/latex": [
       "FALSE"
      ],
      "text/markdown": [
       "FALSE"
      ],
      "text/plain": [
       "[1] FALSE"
      ]
     },
     "metadata": {},
     "output_type": "display_data"
    },
    {
     "data": {
      "text/plain": [
       "Time difference of 0.008504868 secs"
      ]
     },
     "metadata": {},
     "output_type": "display_data"
    }
   ],
   "source": [
    "# PRZYKŁAD 2.3\n",
    "#dla sprawdzenia użyjemy funkcji wbudowanej, z biblioteki \"matlab\", która ma to samo zadanie, co napisana przez nas funkcja\n",
    "\n",
    "install.packages(\"matlab\")\n",
    "library(\"matlab\")\n",
    "\n",
    "as.logical(isprime(1))\n",
    "as.logical(isprime(2))\n",
    "as.logical(isprime(4))\n",
    "as.logical(isprime(13))\n",
    "as.logical(isprime(15))\n",
    "\n",
    "czasRozpoczecia<- Sys.time()\n",
    "as.logical(isprime(11203312))\n",
    "czasZakonczenia <- Sys.time()\n",
    "czasWykonywania <- czasZakonczenia - czasRozpoczecia\n",
    "czasWykonywania"
   ]
  }
 ],
 "metadata": {
  "kernelspec": {
   "display_name": "R",
   "language": "R",
   "name": "ir"
  },
  "language_info": {
   "codemirror_mode": "r",
   "file_extension": ".r",
   "mimetype": "text/x-r-source",
   "name": "R",
   "pygments_lexer": "r",
   "version": "3.6.1"
  }
 },
 "nbformat": 4,
 "nbformat_minor": 4
}
