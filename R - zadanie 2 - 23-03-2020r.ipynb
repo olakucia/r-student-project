{
 "cells": [
  {
   "cell_type": "code",
   "execution_count": 5,
   "metadata": {},
   "outputs": [
    {
     "name": "stdout",
     "output_type": "stream",
     "text": [
      "[1] \"Dane do sortowania:\"\n"
     ]
    },
    {
     "data": {
      "text/html": [
       "<ol class=list-inline>\n",
       "\t<li>8771</li>\n",
       "\t<li>2325</li>\n",
       "\t<li>1922</li>\n",
       "\t<li>4976</li>\n",
       "\t<li>5488</li>\n",
       "\t<li>9236</li>\n",
       "\t<li>4363</li>\n",
       "\t<li>9024</li>\n",
       "\t<li>8840</li>\n",
       "\t<li>3613</li>\n",
       "</ol>\n"
      ],
      "text/latex": [
       "\\begin{enumerate*}\n",
       "\\item 8771\n",
       "\\item 2325\n",
       "\\item 1922\n",
       "\\item 4976\n",
       "\\item 5488\n",
       "\\item 9236\n",
       "\\item 4363\n",
       "\\item 9024\n",
       "\\item 8840\n",
       "\\item 3613\n",
       "\\end{enumerate*}\n"
      ],
      "text/markdown": [
       "1. 8771\n",
       "2. 2325\n",
       "3. 1922\n",
       "4. 4976\n",
       "5. 5488\n",
       "6. 9236\n",
       "7. 4363\n",
       "8. 9024\n",
       "9. 8840\n",
       "10. 3613\n",
       "\n",
       "\n"
      ],
      "text/plain": [
       " [1] 8771 2325 1922 4976 5488 9236 4363 9024 8840 3613"
      ]
     },
     "metadata": {},
     "output_type": "display_data"
    },
    {
     "name": "stdout",
     "output_type": "stream",
     "text": [
      "\n",
      "\n",
      "[1] \"Sortowanie bąbelkowe:\"\n"
     ]
    },
    {
     "data": {
      "text/html": [
       "<ol class=list-inline>\n",
       "\t<li>1922</li>\n",
       "\t<li>2325</li>\n",
       "\t<li>3613</li>\n",
       "\t<li>4363</li>\n",
       "\t<li>4976</li>\n",
       "\t<li>5488</li>\n",
       "\t<li>8771</li>\n",
       "\t<li>8840</li>\n",
       "\t<li>9024</li>\n",
       "\t<li>9236</li>\n",
       "</ol>\n"
      ],
      "text/latex": [
       "\\begin{enumerate*}\n",
       "\\item 1922\n",
       "\\item 2325\n",
       "\\item 3613\n",
       "\\item 4363\n",
       "\\item 4976\n",
       "\\item 5488\n",
       "\\item 8771\n",
       "\\item 8840\n",
       "\\item 9024\n",
       "\\item 9236\n",
       "\\end{enumerate*}\n"
      ],
      "text/markdown": [
       "1. 1922\n",
       "2. 2325\n",
       "3. 3613\n",
       "4. 4363\n",
       "5. 4976\n",
       "6. 5488\n",
       "7. 8771\n",
       "8. 8840\n",
       "9. 9024\n",
       "10. 9236\n",
       "\n",
       "\n"
      ],
      "text/plain": [
       " [1] 1922 2325 3613 4363 4976 5488 8771 8840 9024 9236"
      ]
     },
     "metadata": {},
     "output_type": "display_data"
    },
    {
     "name": "stdout",
     "output_type": "stream",
     "text": [
      "[1] \"Sortowanie 10000 elementów trwało...\"\n"
     ]
    },
    {
     "data": {
      "text/plain": [
       "Time difference of 10.66053 secs"
      ]
     },
     "metadata": {},
     "output_type": "display_data"
    },
    {
     "name": "stdout",
     "output_type": "stream",
     "text": [
      "\n",
      "\n",
      "[1] \"Sortowanie przez wstawianie:\"\n"
     ]
    },
    {
     "data": {
      "text/html": [
       "<ol class=list-inline>\n",
       "\t<li>1922</li>\n",
       "\t<li>2325</li>\n",
       "\t<li>3613</li>\n",
       "\t<li>4363</li>\n",
       "\t<li>4976</li>\n",
       "\t<li>5488</li>\n",
       "\t<li>8771</li>\n",
       "\t<li>8840</li>\n",
       "\t<li>9024</li>\n",
       "\t<li>9236</li>\n",
       "</ol>\n"
      ],
      "text/latex": [
       "\\begin{enumerate*}\n",
       "\\item 1922\n",
       "\\item 2325\n",
       "\\item 3613\n",
       "\\item 4363\n",
       "\\item 4976\n",
       "\\item 5488\n",
       "\\item 8771\n",
       "\\item 8840\n",
       "\\item 9024\n",
       "\\item 9236\n",
       "\\end{enumerate*}\n"
      ],
      "text/markdown": [
       "1. 1922\n",
       "2. 2325\n",
       "3. 3613\n",
       "4. 4363\n",
       "5. 4976\n",
       "6. 5488\n",
       "7. 8771\n",
       "8. 8840\n",
       "9. 9024\n",
       "10. 9236\n",
       "\n",
       "\n"
      ],
      "text/plain": [
       " [1] 1922 2325 3613 4363 4976 5488 8771 8840 9024 9236"
      ]
     },
     "metadata": {},
     "output_type": "display_data"
    },
    {
     "name": "stdout",
     "output_type": "stream",
     "text": [
      "[1] \"Sortowanie 10000 elementów trwało...\"\n"
     ]
    },
    {
     "data": {
      "text/plain": [
       "Time difference of 6.01898 secs"
      ]
     },
     "metadata": {},
     "output_type": "display_data"
    },
    {
     "name": "stdout",
     "output_type": "stream",
     "text": [
      "\n",
      "\n",
      "[1] \"Sortowanie przez scalanie:\"\n"
     ]
    },
    {
     "data": {
      "text/html": [
       "<ol class=list-inline>\n",
       "\t<li>1922</li>\n",
       "\t<li>2325</li>\n",
       "\t<li>3613</li>\n",
       "\t<li>4363</li>\n",
       "\t<li>4976</li>\n",
       "\t<li>5488</li>\n",
       "\t<li>8771</li>\n",
       "\t<li>8840</li>\n",
       "\t<li>9024</li>\n",
       "\t<li>9236</li>\n",
       "</ol>\n"
      ],
      "text/latex": [
       "\\begin{enumerate*}\n",
       "\\item 1922\n",
       "\\item 2325\n",
       "\\item 3613\n",
       "\\item 4363\n",
       "\\item 4976\n",
       "\\item 5488\n",
       "\\item 8771\n",
       "\\item 8840\n",
       "\\item 9024\n",
       "\\item 9236\n",
       "\\end{enumerate*}\n"
      ],
      "text/markdown": [
       "1. 1922\n",
       "2. 2325\n",
       "3. 3613\n",
       "4. 4363\n",
       "5. 4976\n",
       "6. 5488\n",
       "7. 8771\n",
       "8. 8840\n",
       "9. 9024\n",
       "10. 9236\n",
       "\n",
       "\n"
      ],
      "text/plain": [
       " [1] 1922 2325 3613 4363 4976 5488 8771 8840 9024 9236"
      ]
     },
     "metadata": {},
     "output_type": "display_data"
    },
    {
     "name": "stdout",
     "output_type": "stream",
     "text": [
      "[1] \"Sortowanie 10000 elementów trwało...\"\n"
     ]
    },
    {
     "data": {
      "text/plain": [
       "Time difference of 0.1035421 secs"
      ]
     },
     "metadata": {},
     "output_type": "display_data"
    },
    {
     "name": "stdout",
     "output_type": "stream",
     "text": [
      "\n",
      "\n",
      "[1] \"Sortowanie szybkie:\"\n"
     ]
    },
    {
     "data": {
      "text/html": [
       "<ol class=list-inline>\n",
       "\t<li>1922</li>\n",
       "\t<li>2325</li>\n",
       "\t<li>3613</li>\n",
       "\t<li>4363</li>\n",
       "\t<li>4976</li>\n",
       "\t<li>5488</li>\n",
       "\t<li>8771</li>\n",
       "\t<li>8840</li>\n",
       "\t<li>9024</li>\n",
       "\t<li>9236</li>\n",
       "</ol>\n"
      ],
      "text/latex": [
       "\\begin{enumerate*}\n",
       "\\item 1922\n",
       "\\item 2325\n",
       "\\item 3613\n",
       "\\item 4363\n",
       "\\item 4976\n",
       "\\item 5488\n",
       "\\item 8771\n",
       "\\item 8840\n",
       "\\item 9024\n",
       "\\item 9236\n",
       "\\end{enumerate*}\n"
      ],
      "text/markdown": [
       "1. 1922\n",
       "2. 2325\n",
       "3. 3613\n",
       "4. 4363\n",
       "5. 4976\n",
       "6. 5488\n",
       "7. 8771\n",
       "8. 8840\n",
       "9. 9024\n",
       "10. 9236\n",
       "\n",
       "\n"
      ],
      "text/plain": [
       " [1] 1922 2325 3613 4363 4976 5488 8771 8840 9024 9236"
      ]
     },
     "metadata": {},
     "output_type": "display_data"
    },
    {
     "name": "stdout",
     "output_type": "stream",
     "text": [
      "[1] \"Sortowanie 10000 elementów trwało...\"\n"
     ]
    },
    {
     "data": {
      "text/plain": [
       "Time difference of 0.02698493 secs"
      ]
     },
     "metadata": {},
     "output_type": "display_data"
    }
   ],
   "source": [
    "obliczCzasWykonania <- function(czasRozpoczecia) {\n",
    "    czasZakonczenia <- Sys.time()\n",
    "    czasWykonywania <- czasZakonczenia - czasRozpoczecia\n",
    "    \n",
    "    czasWykonywania\n",
    "}\n",
    "\n",
    "daneDoSortowania<-sample(1:10000,10)\n",
    "dużeDaneDoSortowania<-sample(1:1000000, 10000)\n",
    "print(\"Dane do sortowania:\")\n",
    "daneDoSortowania\n",
    "cat('\\n\\n')\n",
    "\n",
    "\n",
    "#PRZYKŁAD 1.1\n",
    "# sortowanie bąbelkowe\n",
    "sortowanieBąbelkowe <- function(daneDoSortowania) {\n",
    "    ilośćDanych<-length(daneDoSortowania)\n",
    "    for(j in 1:(ilośćDanych-1)){\n",
    "        for(i in 1:(ilośćDanych-j)){\n",
    "            if(daneDoSortowania[i] > daneDoSortowania[i+1]){\n",
    "                zmiennaTymczasowa<-daneDoSortowania[i]\n",
    "                daneDoSortowania[i]<-daneDoSortowania[i+1]\n",
    "                daneDoSortowania[i+1]<-zmiennaTymczasowa\n",
    "            }\n",
    "        }\n",
    "    }\n",
    "    daneDoSortowania\n",
    "}\n",
    "\n",
    "print(\"Sortowanie bąbelkowe:\")\n",
    "sortowanieBąbelkowe(daneDoSortowania)\n",
    "\n",
    "print(\"Sortowanie 10000 elementów trwało...\")\n",
    "czasRozpoczecia<- Sys.time()\n",
    "test = sortowanieBąbelkowe(dużeDaneDoSortowania)\n",
    "obliczCzasWykonania(czasRozpoczecia)\n",
    "cat('\\n\\n')\n",
    "\n",
    "\n",
    "\n",
    "#PRZYKŁAD 1.2\n",
    "#sortowanie przez wstawianie\n",
    "sortowaniePrzezWstawianie <- function(daneDoSortowanie){\n",
    "    ilośćDanych<-length(daneDoSortowania)\n",
    "    \n",
    "    for (j in 2:length(daneDoSortowanie)) {\n",
    "        wybranaWartość = daneDoSortowanie[j] \n",
    "        i = j - 1 \n",
    "        while (i > 0 && daneDoSortowanie[i] > wybranaWartość) {\n",
    "            daneDoSortowanie[(i + 1)] = daneDoSortowanie[i]\n",
    "            i = i - 1 \n",
    "        }\n",
    "        daneDoSortowanie[(i + 1)] = wybranaWartość\n",
    "    }\n",
    "    daneDoSortowanie\n",
    "} \n",
    "\n",
    "print(\"Sortowanie przez wstawianie:\")\n",
    "sortowaniePrzezWstawianie(daneDoSortowania)\n",
    "\n",
    "print(\"Sortowanie 10000 elementów trwało...\")\n",
    "czasRozpoczecia<- Sys.time()\n",
    "test = sortowaniePrzezWstawianie(dużeDaneDoSortowania)\n",
    "obliczCzasWykonania(czasRozpoczecia)\n",
    "cat('\\n\\n')\n",
    "\n",
    "\n",
    "\n",
    "#PRZYKŁAD 1.3\n",
    "# sortowanie przez scalanie\n",
    "scalanie<-function(pierwszaPołowaDanych,drugaPołowaDanych) {\n",
    "    scalonaTablica<-numeric(length(pierwszaPołowaDanych)+length(drugaPołowaDanych))\n",
    "    indeksA<-1; indeksB<-1; j<-1;\n",
    "    for(j in 1:length(scalonaTablica)) {\n",
    "        if((indeksA<=length(pierwszaPołowaDanych) && pierwszaPołowaDanych[indeksA]<drugaPołowaDanych[indeksB]) || indeksB>length(drugaPołowaDanych)) {\n",
    "            scalonaTablica[j] <- pierwszaPołowaDanych[indeksA]\n",
    "            indeksA <- indeksA+1\n",
    "        } else {\n",
    "            scalonaTablica[j] <- drugaPołowaDanych[indeksB]\n",
    "            indeksB <- indeksB+1          \n",
    "        }\n",
    "    }\n",
    "    scalonaTablica\n",
    "}\n",
    "\n",
    "sortowaniePrzezScalanie<-function(daneDoSortowania) {\n",
    "    if(length(daneDoSortowania)>1) {\n",
    "        wartośćŚrodkowa <- ceiling(length(daneDoSortowania)/2)\n",
    "        pierwszaPołowaDanych <- sortowaniePrzezScalanie(daneDoSortowania[1:wartośćŚrodkowa])\n",
    "        drugaPołowaDanych <- sortowaniePrzezScalanie(daneDoSortowania[(wartośćŚrodkowa+1):length(daneDoSortowania)])\n",
    "        scalanie(pierwszaPołowaDanych,drugaPołowaDanych)\n",
    "    } else {\n",
    "        daneDoSortowania\n",
    "    }\n",
    "}\n",
    "\n",
    "print(\"Sortowanie przez scalanie:\")\n",
    "sortowaniePrzezScalanie(daneDoSortowania)\n",
    "\n",
    "print(\"Sortowanie 10000 elementów trwało...\")\n",
    "czasRozpoczecia<- Sys.time()\n",
    "test = sortowaniePrzezScalanie(dużeDaneDoSortowania)\n",
    "obliczCzasWykonania(czasRozpoczecia)\n",
    "cat('\\n\\n')\n",
    "\n",
    "\n",
    "\n",
    "#PRZYKŁAD 1.4\n",
    "# sortowanie szybkie\n",
    "sortowanieSzybkie = function(daneDoSortowania) {\n",
    "    n = length(daneDoSortowania)\n",
    "    \n",
    "    if (n > 1) {\n",
    "        wartośćŚrodkowa = daneDoSortowania[n %/% 2]\n",
    "        lewaCzęść = sortowanieSzybkie(daneDoSortowania[daneDoSortowania < wartośćŚrodkowa])\n",
    "        środkowaCzęść = daneDoSortowania[daneDoSortowania == wartośćŚrodkowa]\n",
    "        prawaCzęść =  sortowanieSzybkie(daneDoSortowania[daneDoSortowania > wartośćŚrodkowa])\n",
    "    \n",
    "        c(lewaCzęść, środkowaCzęść, prawaCzęść)\n",
    "    }\n",
    "    else {\n",
    "        daneDoSortowania\n",
    "    }\n",
    "}\n",
    "\n",
    "print(\"Sortowanie szybkie:\")\n",
    "sortowanieSzybkie(daneDoSortowania)\n",
    "\n",
    "print(\"Sortowanie 10000 elementów trwało...\")\n",
    "czasRozpoczecia<- Sys.time()\n",
    "test = sortowanieSzybkie(dużeDaneDoSortowania)\n",
    "obliczCzasWykonania(czasRozpoczecia)\n",
    "\n",
    "\n",
    "# Łatwo zauważyć po czasach sortowania, że stworzone przez nas funkcje sortujące są uszeregowane od najwolniejszej do najszybszej.\n",
    "# Ma to związek ze złożonością użytych algorytmów\n",
    "# Pseudokody oraz informacje na temat szybkości zaciągnięte stąd: https://pl.wikipedia.org/wiki/Sortowanie\n"
   ]
  }
 ],
 "metadata": {
  "kernelspec": {
   "display_name": "R",
   "language": "R",
   "name": "ir"
  },
  "language_info": {
   "codemirror_mode": "r",
   "file_extension": ".r",
   "mimetype": "text/x-r-source",
   "name": "R",
   "pygments_lexer": "r",
   "version": "3.6.1"
  }
 },
 "nbformat": 4,
 "nbformat_minor": 4
}
